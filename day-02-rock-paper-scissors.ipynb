{
 "cells": [
  {
   "cell_type": "markdown",
   "metadata": {},
   "source": [
    "# Advent of Code 2022 🎄"
   ]
  },
  {
   "cell_type": "markdown",
   "metadata": {},
   "source": [
    "## Day 2: Rock Paper Scissors\n",
    "\n",
    "<https://adventofcode.com/2022/day/2>"
   ]
  },
  {
   "cell_type": "code",
   "execution_count": 2,
   "metadata": {},
   "outputs": [],
   "source": [
    "with open(\"data/day-02.txt\", \"r\") as file: \n",
    "    data = [line.strip().split() for line in file]"
   ]
  },
  {
   "cell_type": "code",
   "execution_count": 3,
   "metadata": {},
   "outputs": [],
   "source": [
    "score = {\n",
    "    'X' : { 'A':1+3, 'B':1+0, 'C':1+6 }, # Rock defeats Scissors\n",
    "    'Y' : { 'A':2+6, 'B':2+3, 'C':2+0 }, # Paper defeats Rock\n",
    "    'Z' : { 'A':3+0, 'B':3+6, 'C':3+3 }  # Scissors defeats Paper\n",
    "}"
   ]
  },
  {
   "cell_type": "code",
   "execution_count": 4,
   "metadata": {},
   "outputs": [],
   "source": [
    "strategy = {\n",
    "    'X' : { 'A':'Z', 'B':'X', 'C':'Y' }, # lose\n",
    "    'Y' : { 'A':'X', 'B':'Y', 'C':'Z' }, # draw\n",
    "    'Z' : { 'A':'Y', 'B':'Z', 'C':'X' }  # win\n",
    "}"
   ]
  },
  {
   "cell_type": "markdown",
   "metadata": {},
   "source": [
    "### Part One"
   ]
  },
  {
   "cell_type": "code",
   "execution_count": 8,
   "metadata": {},
   "outputs": [
    {
     "name": "stdout",
     "output_type": "stream",
     "text": [
      "The total score is: 12855\n"
     ]
    }
   ],
   "source": [
    "total_score = sum(score[response][opponent] for opponent,response in data)\n",
    "\n",
    "# total_score = 0\n",
    "# for opponent, response in data:\n",
    "#     round_score = score[response][opponent]\n",
    "#     total_score += round_score\n",
    "# print(total_score)\n",
    "\n",
    "print(f\"The total score is: {total_score}\")"
   ]
  },
  {
   "cell_type": "markdown",
   "metadata": {},
   "source": [
    "### Part Two"
   ]
  },
  {
   "cell_type": "code",
   "execution_count": 9,
   "metadata": {},
   "outputs": [
    {
     "name": "stdout",
     "output_type": "stream",
     "text": [
      "The total score is: 13726\n"
     ]
    }
   ],
   "source": [
    "total_score = sum(score[strategy[response][opponent]][opponent] for opponent,response in data)\n",
    "print(f\"The total score is: {total_score}\")"
   ]
  }
 ],
 "metadata": {
  "kernelspec": {
   "display_name": "Python 3.10.1 64-bit",
   "language": "python",
   "name": "python3"
  },
  "language_info": {
   "codemirror_mode": {
    "name": "ipython",
    "version": 3
   },
   "file_extension": ".py",
   "mimetype": "text/x-python",
   "name": "python",
   "nbconvert_exporter": "python",
   "pygments_lexer": "ipython3",
   "version": "3.10.1"
  },
  "orig_nbformat": 4,
  "vscode": {
   "interpreter": {
    "hash": "aee8b7b246df8f9039afb4144a1f6fd8d2ca17a180786b69acc140d282b71a49"
   }
  }
 },
 "nbformat": 4,
 "nbformat_minor": 2
}
