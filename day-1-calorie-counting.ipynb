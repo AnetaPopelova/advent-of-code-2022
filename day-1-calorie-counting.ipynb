{
 "cells": [
  {
   "cell_type": "markdown",
   "metadata": {},
   "source": [
    "# Advent of Code 2022 🎄"
   ]
  },
  {
   "cell_type": "markdown",
   "metadata": {},
   "source": [
    "## Day 1: Calorie Counting"
   ]
  },
  {
   "cell_type": "markdown",
   "metadata": {},
   "source": [
    "Read input file"
   ]
  },
  {
   "cell_type": "code",
   "execution_count": 44,
   "metadata": {},
   "outputs": [],
   "source": [
    "with open(\"data/day-1.txt\", \"r\") as file: \n",
    "    data = [line.strip() for line in file]"
   ]
  },
  {
   "cell_type": "markdown",
   "metadata": {},
   "source": [
    "### Part 1"
   ]
  },
  {
   "cell_type": "code",
   "execution_count": 70,
   "metadata": {},
   "outputs": [
    {
     "name": "stdout",
     "output_type": "stream",
     "text": [
      "Most calories carried by one Elf: 68467.\n"
     ]
    }
   ],
   "source": [
    "from itertools import groupby\n",
    "\n",
    "calories_per_elf = [sum(int(meal) for meal in elf)for key, elf in groupby(data, key = bool) if key]\n",
    "\n",
    "max_calories = max(calories_per_elf)\n",
    "print(f\"Most calories carried by one Elf: {max_calories}.\")"
   ]
  },
  {
   "cell_type": "markdown",
   "metadata": {},
   "source": [
    "### Part 2"
   ]
  },
  {
   "cell_type": "code",
   "execution_count": 75,
   "metadata": {},
   "outputs": [
    {
     "name": "stdout",
     "output_type": "stream",
     "text": [
      "Three Elves carrying the most calories, carry 203420 calories in total.\n"
     ]
    }
   ],
   "source": [
    "top_three_elfs = sorted(calories_per_elf, reverse=True)[:3]\n",
    "top_three_elfs_sum = sum(top_three_elfs)\n",
    "\n",
    "print(f\"Three Elves carrying the most calories, carry {top_three_elfs_sum} calories in total.\")"
   ]
  }
 ],
 "metadata": {
  "kernelspec": {
   "display_name": "Python 3.10.1 64-bit",
   "language": "python",
   "name": "python3"
  },
  "language_info": {
   "codemirror_mode": {
    "name": "ipython",
    "version": 3
   },
   "file_extension": ".py",
   "mimetype": "text/x-python",
   "name": "python",
   "nbconvert_exporter": "python",
   "pygments_lexer": "ipython3",
   "version": "3.10.1"
  },
  "orig_nbformat": 4,
  "vscode": {
   "interpreter": {
    "hash": "aee8b7b246df8f9039afb4144a1f6fd8d2ca17a180786b69acc140d282b71a49"
   }
  }
 },
 "nbformat": 4,
 "nbformat_minor": 2
}
